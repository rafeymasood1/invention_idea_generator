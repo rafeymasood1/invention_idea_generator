{
 "cells": [
  {
   "cell_type": "code",
   "execution_count": 547,
   "id": "7e86b819",
   "metadata": {},
   "outputs": [],
   "source": [
    "import random\n",
    "\n",
    "class RandomInventionIdeas:\n",
    "    def __init__(self, material, powered_by, movements, size, actual_thing, location):\n",
    "        \n",
    "        \n",
    "        self.material = material\n",
    "        self.powered_by = powered_by\n",
    "        self.movements = movements\n",
    "        self.size = size\n",
    "        self.actual_thing = actual_thing\n",
    "        self.location = location\n",
    "    \n",
    "        text =  \"We will give a unique invention idea to you!, every keyword we return to you will be completely random so you will have to crack it yourself! \"\n",
    "        self.about_it = text\n",
    "    \n",
    "    \n",
    "    def role_all_dice(self):\n",
    "        \n",
    "        material_choice = random.choice(self.material)\n",
    "        powered_by_choice = random.choice(self.powered_by)\n",
    "        movements_choice = random.choice(self.movements)\n",
    "        size_choice = random.choice(self.size)\n",
    "        actual_thing_choice = random.choice(self.actual_thing)\n",
    "        location_choice = random.choice(self.location)\n",
    "        \n",
    "        print(f\" | {location_choice} | {material_choice}  |  related  | {actual_thing_choice}  |  {powered_by_choice} powered  |  {movements_choice}  |  {size_choice}  | !!\")\n",
    "\n",
    "        "
   ]
  },
  {
   "cell_type": "code",
   "execution_count": 554,
   "id": "b719ee27",
   "metadata": {},
   "outputs": [],
   "source": [
    "material_1 =   ['wood', 'paper', 'metal', 'sand', 'fabric', 'plastic']\n",
    "powered_by_1 =  ['manual',' electric', 'digital', 'wind', 'water', 'radiowave']\n",
    "movement_1 =     ['flys', 'under_water', 'on_road', 'secret_agent', 'stationary', 'solar']\n",
    "size_1 =     ['mini', 'giant', 'portable', 'inhabitable', 'wearable', 'pocket']\n",
    "actual_thing_1 = ['robot', 'vehicle', 'tool', 'game', 'app', 'art']\n",
    "location_1 = ['home', 'office', 'industrial', 'public', 'personal', 'agriculture']\n",
    "\n",
    "idea_1 = RandomInventionIdeas(material_1,powered_by_1,movement_1,size_1,actual_thing_1,location_1)\n"
   ]
  },
  {
   "cell_type": "code",
   "execution_count": 560,
   "id": "8ac64a53",
   "metadata": {
    "scrolled": true
   },
   "outputs": [
    {
     "name": "stdout",
     "output_type": "stream",
     "text": [
      " | public | sand  |  related  | game  |  wind powered  |  secret_agent  |  wearable  | !!\n"
     ]
    }
   ],
   "source": [
    "idea_1 = RandomInventionIdeas(material_1,powered_by_1,movement_1,size_1,actual_thing_1,location_1)\n",
    "idea_1.role_all_dice()"
   ]
  },
  {
   "cell_type": "code",
   "execution_count": null,
   "id": "5ae9a7c9",
   "metadata": {},
   "outputs": [],
   "source": []
  }
 ],
 "metadata": {
  "kernelspec": {
   "display_name": "Python 3",
   "language": "python",
   "name": "python3"
  },
  "language_info": {
   "codemirror_mode": {
    "name": "ipython",
    "version": 3
   },
   "file_extension": ".py",
   "mimetype": "text/x-python",
   "name": "python",
   "nbconvert_exporter": "python",
   "pygments_lexer": "ipython3",
   "version": "3.8.8"
  }
 },
 "nbformat": 4,
 "nbformat_minor": 5
}
